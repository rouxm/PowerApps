{
  "cells": [
    {
      "cell_type": "markdown",
      "metadata": {
        "id": "gvLegMMvBZYg"
      },
      "source": [
        "## Tensors\n",
        "\n",
        "TensorFlow operates on multidimensional arrays or _tensors_ represented as `tf.Tensor` objects. Here is a two-dimensional tensor:"
      ]
    },
    {
      "cell_type": "code",
      "execution_count": 2,
      "metadata": {
        "id": "6ZqX5RnbBS1f"
      },
      "outputs": [
        {
          "name": "stdout",
          "output_type": "stream",
          "text": [
            "3.0.0\n"
          ]
        }
      ],
      "source": [
        "import re\n",
        "import tensorflow_datasets.public_api as tfds\n",
        "\n",
        "_TRAIN_URL = (\n",
        "    \"https://storage.googleapis.com/download.tensorflow.org/data/rps.zip\"\n",
        ")\n",
        "_TEST_URL = \"https://storage.googleapis.com/download.tensorflow.org/data/rps-test-set.zip\"\n",
        "\n",
        "_IMAGE_SIZE = 300\n",
        "_IMAGE_SHAPE = (_IMAGE_SIZE, _IMAGE_SIZE, 3)\n",
        "\n",
        "_NAME_RE = re.compile(\n",
        "    r\"^(rps|rps-test-set)(?:/|\\\\)(rock|paper|scissors)(?:/|\\\\)[\\w-]*\\.png$\"\n",
        ")\n",
        "\n",
        "VERSION = tfds.core.Version(\"3.0.0\")\n",
        "RELEASE_NOTES = {\n",
        "      \"3.0.0\": \"New split API (https://tensorflow.org/datasets/splits)\",\n",
        "  }\n",
        "\n",
        "print(VERSION)\n",
        "\n",
        "def _info(self):\n",
        "    return self.dataset_info_from_configs(\n",
        "        features=tfds.features.FeaturesDict({\n",
        "            \"image\": tfds.features.Image(shape=_IMAGE_SHAPE),\n",
        "            \"label\": tfds.features.ClassLabel(\n",
        "                names=[\"rock\", \"paper\", \"scissors\"]\n",
        "            ),\n",
        "        }),\n",
        "        supervised_keys=(\"image\", \"label\"),\n",
        "        homepage=\"http://laurencemoroney.com/rock-paper-scissors-dataset\",\n",
        "    )\n",
        "\n",
        "def _split_generators(self, dl_manager):\n",
        "    train_path, test_path = dl_manager.download([_TRAIN_URL, _TEST_URL])\n",
        "    print(train_path)\n",
        "    \n",
        "    return [\n",
        "        tfds.core.SplitGenerator(\n",
        "            name=tfds.Split.TRAIN,\n",
        "            gen_kwargs={\n",
        "                \"archive\": dl_manager.iter_archive(train_path),\n",
        "            },\n",
        "        ),\n",
        "        tfds.core.SplitGenerator(\n",
        "            name=tfds.Split.TEST,\n",
        "            gen_kwargs={\n",
        "                \"archive\": dl_manager.iter_archive(test_path),\n",
        "            },\n",
        "        ),\n",
        "    ]\n",
        "\n",
        "def _generate_examples(self, archive):\n",
        "    \"\"\"Generate rock, paper or scissors images and labels given the directory path.\n",
        "\n",
        "    Args:\n",
        "      archive: object that iterates over the zip.\n",
        "\n",
        "    Yields:\n",
        "      The image path and its corresponding label.\n",
        "    \"\"\"\n",
        "\n",
        "    for fname, fobj in archive:\n",
        "      print('the path is ' + fname)\n",
        "      res = _NAME_RE.match(fname)\n",
        "      if not res:  # if anything other than .png; skip\n",
        "        continue\n",
        "      label = res.group(2).lower()\n",
        "      record = {\n",
        "          \"image\": fobj,\n",
        "          \"label\": label,\n",
        "      }\n",
        "      yield fname, record\n",
        "   "
      ]
    },
    {
      "cell_type": "code",
      "execution_count": 4,
      "metadata": {},
      "outputs": [
        {
          "name": "stderr",
          "output_type": "stream",
          "text": [
            "Dl Size...: 100%|██████████| 230198979/230198979 [00:00<00:00, 7907070718.91 MiB/s]\n",
            "Dl Completed...: 100%|██████████| 2/2 [00:00<00:00, 57.83 url/s]\n"
          ]
        },
        {
          "data": {
            "text/plain": [
              "[SplitGeneratorLegacy(name=Split('train'), gen_kwargs={'archive': <generator object iter_zip at 0x7f0468027a00>}),\n",
              " SplitGeneratorLegacy(name=Split('test'), gen_kwargs={'archive': <generator object iter_zip at 0x7f0468027ca0>})]"
            ]
          },
          "execution_count": 4,
          "metadata": {},
          "output_type": "execute_result"
        }
      ],
      "source": [
        "dl_manager = tfds.download.DownloadManager(download_dir='./mydata') #any local path \n",
        "\n",
        "# Parallel download: dict -> dict\n",
        "#data_dirs = dl_manager.download_and_extract({\n",
        "#   'train': 'https://storage.googleapis.com/download.tensorflow.org/data/rps.zip',\n",
        "#   'test': 'https://storage.googleapis.com/download.tensorflow.org/data/rps-test-set.zip',\n",
        "#})\n",
        "#data_dirs['train']\n",
        "#data_dirs['test']\n",
        "\n",
        "_split_generators(1,dl_manager)"
      ]
    }
  ],
  "metadata": {
    "colab": {
      "collapsed_sections": [],
      "name": "basics.ipynb",
      "toc_visible": true
    },
    "kernelspec": {
      "display_name": "Python 3",
      "name": "python3"
    },
    "language_info": {
      "codemirror_mode": {
        "name": "ipython",
        "version": 3
      },
      "file_extension": ".py",
      "mimetype": "text/x-python",
      "name": "python",
      "nbconvert_exporter": "python",
      "pygments_lexer": "ipython3",
      "version": "3.10.13"
    }
  },
  "nbformat": 4,
  "nbformat_minor": 0
}
